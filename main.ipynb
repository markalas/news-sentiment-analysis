{
 "cells": [
  {
   "cell_type": "code",
   "execution_count": 99,
   "metadata": {},
   "outputs": [],
   "source": [
    "import os\r\n",
    "import pandas as pd\r\n",
    "import numpy as np"
   ]
  },
  {
   "cell_type": "code",
   "execution_count": 100,
   "metadata": {},
   "outputs": [],
   "source": [
    "# Setup working directory and relative filepaths\r\n",
    "current_dir = os.curdir\r\n",
    "data_dir = os.path.join(current_dir, \"data\")\r\n",
    "output_dir = os.path.join(current_dir, \"data_clean\")\r\n",
    "\r\n",
    "# Get data path\r\n",
    "abc_data_dir = os.path.join(data_dir, \"abc-news.csv\")\r\n",
    "bbc_data_dir = os.path.join(data_dir, \"bbc-news.csv\")\r\n",
    "cbs_data_dir = os.path.join(data_dir, \"cbs-news.csv\")\r\n",
    "cnn_data_dir = os.path.join(data_dir, \"cnn-news.csv\")\r\n",
    "\r\n",
    "# Read csv data\r\n",
    "abc_data_csv = pd.read_csv(abc_data_dir, encoding=\"utf-16\")\r\n",
    "bbc_data_csv = pd.read_csv(bbc_data_dir, encoding=\"utf-16\")\r\n",
    "cbs_data_csv = pd.read_csv(cbs_data_dir, encoding=\"utf-16\")\r\n",
    "cnn_data_csv = pd.read_csv(cnn_data_dir, encoding=\"utf-16\")"
   ]
  },
  {
   "cell_type": "code",
   "execution_count": 101,
   "metadata": {},
   "outputs": [],
   "source": [
    "abc_data_df = pd.DataFrame(abc_data_csv.copy())\r\n",
    "bbc_data_df = pd.DataFrame(bbc_data_csv.copy())\r\n",
    "cbs_data_df = pd.DataFrame(cbs_data_csv.copy())\r\n",
    "cnn_data_df = pd.DataFrame(cnn_data_csv.copy())"
   ]
  },
  {
   "cell_type": "code",
   "execution_count": 102,
   "metadata": {},
   "outputs": [
    {
     "name": "stdout",
     "output_type": "stream",
     "text": [
      "abc: 43280\n",
      "bbc: 21119\n",
      "cbs: 35085\n",
      "cnn: 31696\n"
     ]
    }
   ],
   "source": [
    "print(\"abc: \" + str(len(abc_data_df)))\r\n",
    "print(\"bbc: \" + str(len(bbc_data_df)))\r\n",
    "print(\"cbs: \" + str(len(cbs_data_df)))\r\n",
    "print(\"cnn: \" + str(len(cnn_data_df)))"
   ]
  },
  {
   "cell_type": "code",
   "execution_count": 103,
   "metadata": {},
   "outputs": [],
   "source": [
    "col_ls = ['id', 'page_id', 'caption', 'link', 'picture']\r\n",
    "abc_data_df.drop(columns = col_ls, inplace = True) \r\n",
    "bbc_data_df.drop(columns = col_ls, inplace = True) \r\n",
    "cbs_data_df.drop(columns = col_ls, inplace = True)\r\n",
    "cnn_data_df.drop(columns = col_ls, inplace = True)\r\n"
   ]
  },
  {
   "cell_type": "code",
   "execution_count": 104,
   "metadata": {},
   "outputs": [
    {
     "name": "stdout",
     "output_type": "stream",
     "text": [
      "['shared_story', 'published_story', 'added_photos', 'mobile_status_update', 'added_video', 'created_event']\n"
     ]
    }
   ],
   "source": [
    "# Determine how many post_types and status_types and factorize types\r\n",
    "post_types_unique = pd.unique(abc_data_df['post_type'])\r\n",
    "post_types_factorize = pd.factorize(post_types_unique, sort=True)[0]\r\n",
    "status_types_unique = pd.unique(abc_data_df['status_type'])\r\n",
    "status_types_unique = [i for i in status_types_unique if str(i) != 'nan']\r\n",
    "status_types_factorize = pd.factorize(status_types_unique, sort=True)[0]\r\n",
    "\r\n",
    "# Create dictionary for post_types and status_types\r\n",
    "post_types_dict = dict(zip(post_types_unique, post_types_factorize))\r\n",
    "status_types_dict = dict(zip(status_types_unique, status_types_factorize))\r\n",
    "\r\n",
    "# Define function to assign kv pairs to post_types and status_types\r\n",
    "def post_cat(x):\r\n",
    "    for type, category in post_types_dict.items():\r\n",
    "        if x in type:\r\n",
    "            return category\r\n",
    "\r\n",
    "def status_cat(x):\r\n",
    "    for type, category in status_types_dict.items():\r\n",
    "        try:\r\n",
    "            if x in type:\r\n",
    "                return category\r\n",
    "        except TypeError:\r\n",
    "            return -1\r\n",
    "\r\n",
    "# Apply function to DataFrame\r\n",
    "abc_data_df['post_category'] = abc_data_df['post_type'].apply(post_cat)\r\n",
    "abc_data_df['status_category'] = abc_data_df['status_type'].apply(status_cat)\r\n"
   ]
  },
  {
   "cell_type": "code",
   "execution_count": 105,
   "metadata": {},
   "outputs": [
    {
     "data": {
      "text/html": "<div>\n<style scoped>\n    .dataframe tbody tr th:only-of-type {\n        vertical-align: middle;\n    }\n\n    .dataframe tbody tr th {\n        vertical-align: top;\n    }\n\n    .dataframe thead th {\n        text-align: right;\n    }\n</style>\n<table border=\"1\" class=\"dataframe\">\n  <thead>\n    <tr style=\"text-align: right;\">\n      <th></th>\n      <th>name</th>\n      <th>message</th>\n      <th>description</th>\n      <th>post_type</th>\n      <th>status_type</th>\n      <th>likes_count</th>\n      <th>comments_count</th>\n      <th>shares_count</th>\n      <th>love_count</th>\n      <th>wow_count</th>\n      <th>haha_count</th>\n      <th>sad_count</th>\n      <th>thankful_count</th>\n      <th>angry_count</th>\n      <th>posted_at</th>\n      <th>post_category</th>\n      <th>status_category</th>\n    </tr>\n  </thead>\n  <tbody>\n    <tr>\n      <th>0</th>\n      <td>Chief Justice Roberts Responds to Judicial Eth...</td>\n      <td>Roberts took the unusual step of devoting the ...</td>\n      <td>PAUL J. RICHARDS/AFP/Getty Images Chief Justic...</td>\n      <td>link</td>\n      <td>shared_story</td>\n      <td>61</td>\n      <td>27</td>\n      <td>12</td>\n      <td>0</td>\n      <td>0</td>\n      <td>0</td>\n      <td>0</td>\n      <td>0</td>\n      <td>0</td>\n      <td>2012-01-01 00:30:26</td>\n      <td>1</td>\n      <td>5</td>\n    </tr>\n    <tr>\n      <th>1</th>\n      <td>With Reservations, Obama Signs Act to Allow De...</td>\n      <td>Do you agree with the new law?</td>\n      <td>In his last official act of business in 2011, ...</td>\n      <td>link</td>\n      <td>shared_story</td>\n      <td>120</td>\n      <td>523</td>\n      <td>171</td>\n      <td>0</td>\n      <td>0</td>\n      <td>0</td>\n      <td>0</td>\n      <td>0</td>\n      <td>0</td>\n      <td>2012-01-01 01:08:58</td>\n      <td>1</td>\n      <td>5</td>\n    </tr>\n    <tr>\n      <th>2</th>\n      <td>Wishes For 2012 to Fall on Times Square</td>\n      <td>Some pretty cool confetti will rain down on Ne...</td>\n      <td>The wishes of thousands of people will flutter...</td>\n      <td>link</td>\n      <td>published_story</td>\n      <td>271</td>\n      <td>31</td>\n      <td>0</td>\n      <td>0</td>\n      <td>0</td>\n      <td>0</td>\n      <td>0</td>\n      <td>0</td>\n      <td>0</td>\n      <td>2012-01-01 02:00:37</td>\n      <td>1</td>\n      <td>4</td>\n    </tr>\n    <tr>\n      <th>3</th>\n      <td>Mitt Romney Vows to Veto Dream Act if President</td>\n      <td>NaN</td>\n      <td>Eric Gay/AP Photo SIOUX CITY, Iowa – Mitt Romn...</td>\n      <td>link</td>\n      <td>shared_story</td>\n      <td>140</td>\n      <td>188</td>\n      <td>23</td>\n      <td>0</td>\n      <td>0</td>\n      <td>0</td>\n      <td>0</td>\n      <td>0</td>\n      <td>0</td>\n      <td>2012-01-01 02:35:20</td>\n      <td>1</td>\n      <td>5</td>\n    </tr>\n    <tr>\n      <th>4</th>\n      <td>NY Pharmacy Shootout Leaves Suspect, ATF Agent...</td>\n      <td>The pharmacy was held up by a man seeking pres...</td>\n      <td>A shootout at a suburban New York family pharm...</td>\n      <td>link</td>\n      <td>shared_story</td>\n      <td>59</td>\n      <td>51</td>\n      <td>34</td>\n      <td>0</td>\n      <td>0</td>\n      <td>0</td>\n      <td>0</td>\n      <td>0</td>\n      <td>0</td>\n      <td>2012-01-01 03:36:01</td>\n      <td>1</td>\n      <td>5</td>\n    </tr>\n    <tr>\n      <th>...</th>\n      <td>...</td>\n      <td>...</td>\n      <td>...</td>\n      <td>...</td>\n      <td>...</td>\n      <td>...</td>\n      <td>...</td>\n      <td>...</td>\n      <td>...</td>\n      <td>...</td>\n      <td>...</td>\n      <td>...</td>\n      <td>...</td>\n      <td>...</td>\n      <td>...</td>\n      <td>...</td>\n      <td>...</td>\n    </tr>\n    <tr>\n      <th>43275</th>\n      <td>New Jersey Family Protects Their Donald Trump ...</td>\n      <td>This New Jersey family went to extraordinary m...</td>\n      <td>NaN</td>\n      <td>video</td>\n      <td>added_video</td>\n      <td>1703</td>\n      <td>642</td>\n      <td>485</td>\n      <td>207</td>\n      <td>66</td>\n      <td>718</td>\n      <td>12</td>\n      <td>0</td>\n      <td>46</td>\n      <td>2016-11-07 23:03:33</td>\n      <td>4</td>\n      <td>1</td>\n    </tr>\n    <tr>\n      <th>43276</th>\n      <td>ABC News Politics</td>\n      <td>NaN</td>\n      <td>Hours before the pivotal state of Pennsylvania...</td>\n      <td>video</td>\n      <td>mobile_status_update</td>\n      <td>1102</td>\n      <td>500</td>\n      <td>0</td>\n      <td>246</td>\n      <td>10</td>\n      <td>64</td>\n      <td>11</td>\n      <td>0</td>\n      <td>457</td>\n      <td>2016-11-07 23:19:27</td>\n      <td>4</td>\n      <td>3</td>\n    </tr>\n    <tr>\n      <th>43277</th>\n      <td>Trump's Tax Returns Remain Election Mystery</td>\n      <td>As Election Day arrives, one of the campaign's...</td>\n      <td></td>\n      <td>link</td>\n      <td>shared_story</td>\n      <td>4772</td>\n      <td>4011</td>\n      <td>3470</td>\n      <td>91</td>\n      <td>244</td>\n      <td>1232</td>\n      <td>65</td>\n      <td>0</td>\n      <td>2592</td>\n      <td>2016-11-07 23:27:30</td>\n      <td>1</td>\n      <td>5</td>\n    </tr>\n    <tr>\n      <th>43278</th>\n      <td>Donald Trump's Possible Paths to Victory</td>\n      <td>Donald J. Trump's path to victory isn't clear ...</td>\n      <td></td>\n      <td>link</td>\n      <td>shared_story</td>\n      <td>1953</td>\n      <td>645</td>\n      <td>99</td>\n      <td>444</td>\n      <td>11</td>\n      <td>161</td>\n      <td>22</td>\n      <td>0</td>\n      <td>434</td>\n      <td>2016-11-07 23:45:07</td>\n      <td>1</td>\n      <td>5</td>\n    </tr>\n    <tr>\n      <th>43279</th>\n      <td>Hillary Clinton's Possible Paths to Victory</td>\n      <td>Hillary Clinton is hitting three important sta...</td>\n      <td></td>\n      <td>link</td>\n      <td>shared_story</td>\n      <td>3029</td>\n      <td>853</td>\n      <td>158</td>\n      <td>745</td>\n      <td>15</td>\n      <td>62</td>\n      <td>22</td>\n      <td>0</td>\n      <td>504</td>\n      <td>2016-11-07 23:47:06</td>\n      <td>1</td>\n      <td>5</td>\n    </tr>\n  </tbody>\n</table>\n<p>43280 rows × 17 columns</p>\n</div>",
      "text/plain": "                                                    name  \\\n0      Chief Justice Roberts Responds to Judicial Eth...   \n1      With Reservations, Obama Signs Act to Allow De...   \n2                Wishes For 2012 to Fall on Times Square   \n3        Mitt Romney Vows to Veto Dream Act if President   \n4      NY Pharmacy Shootout Leaves Suspect, ATF Agent...   \n...                                                  ...   \n43275  New Jersey Family Protects Their Donald Trump ...   \n43276                                  ABC News Politics   \n43277        Trump's Tax Returns Remain Election Mystery   \n43278           Donald Trump's Possible Paths to Victory   \n43279        Hillary Clinton's Possible Paths to Victory   \n\n                                                 message  \\\n0      Roberts took the unusual step of devoting the ...   \n1                         Do you agree with the new law?   \n2      Some pretty cool confetti will rain down on Ne...   \n3                                                    NaN   \n4      The pharmacy was held up by a man seeking pres...   \n...                                                  ...   \n43275  This New Jersey family went to extraordinary m...   \n43276                                                NaN   \n43277  As Election Day arrives, one of the campaign's...   \n43278  Donald J. Trump's path to victory isn't clear ...   \n43279  Hillary Clinton is hitting three important sta...   \n\n                                             description post_type  \\\n0      PAUL J. RICHARDS/AFP/Getty Images Chief Justic...      link   \n1      In his last official act of business in 2011, ...      link   \n2      The wishes of thousands of people will flutter...      link   \n3      Eric Gay/AP Photo SIOUX CITY, Iowa – Mitt Romn...      link   \n4      A shootout at a suburban New York family pharm...      link   \n...                                                  ...       ...   \n43275                                                NaN     video   \n43276  Hours before the pivotal state of Pennsylvania...     video   \n43277                                                         link   \n43278                                                         link   \n43279                                                         link   \n\n                status_type  likes_count  comments_count  shares_count  \\\n0              shared_story           61              27            12   \n1              shared_story          120             523           171   \n2           published_story          271              31             0   \n3              shared_story          140             188            23   \n4              shared_story           59              51            34   \n...                     ...          ...             ...           ...   \n43275           added_video         1703             642           485   \n43276  mobile_status_update         1102             500             0   \n43277          shared_story         4772            4011          3470   \n43278          shared_story         1953             645            99   \n43279          shared_story         3029             853           158   \n\n       love_count  wow_count  haha_count  sad_count  thankful_count  \\\n0               0          0           0          0               0   \n1               0          0           0          0               0   \n2               0          0           0          0               0   \n3               0          0           0          0               0   \n4               0          0           0          0               0   \n...           ...        ...         ...        ...             ...   \n43275         207         66         718         12               0   \n43276         246         10          64         11               0   \n43277          91        244        1232         65               0   \n43278         444         11         161         22               0   \n43279         745         15          62         22               0   \n\n       angry_count            posted_at  post_category  status_category  \n0                0  2012-01-01 00:30:26              1                5  \n1                0  2012-01-01 01:08:58              1                5  \n2                0  2012-01-01 02:00:37              1                4  \n3                0  2012-01-01 02:35:20              1                5  \n4                0  2012-01-01 03:36:01              1                5  \n...            ...                  ...            ...              ...  \n43275           46  2016-11-07 23:03:33              4                1  \n43276          457  2016-11-07 23:19:27              4                3  \n43277         2592  2016-11-07 23:27:30              1                5  \n43278          434  2016-11-07 23:45:07              1                5  \n43279          504  2016-11-07 23:47:06              1                5  \n\n[43280 rows x 17 columns]"
     },
     "execution_count": 105,
     "metadata": {},
     "output_type": "execute_result"
    }
   ],
   "source": [
    "abc_data_df"
   ]
  }
 ],
 "metadata": {
  "kernelspec": {
   "display_name": "Python 3.9.1 32-bit",
   "name": "python391jvsc74a57bd03f278169035c3cd7303066dacb0afc3bfc0b1393c2667d2553c33cfa2e66540a"
  },
  "language_info": {
   "codemirror_mode": {
    "name": "ipython",
    "version": 3
   },
   "file_extension": ".py",
   "mimetype": "text/x-python",
   "name": "python",
   "nbconvert_exporter": "python",
   "pygments_lexer": "ipython3",
   "version": "3.9.1"
  },
  "metadata": {
   "interpreter": {
    "hash": "3f278169035c3cd7303066dacb0afc3bfc0b1393c2667d2553c33cfa2e66540a"
   }
  },
  "orig_nbformat": 2
 },
 "nbformat": 4,
 "nbformat_minor": 2
}