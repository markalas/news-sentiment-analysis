{
 "cells": [
  {
   "cell_type": "code",
   "execution_count": 1,
   "metadata": {},
   "outputs": [],
   "source": [
    "import os\r\n",
    "import pandas as pd\r\n",
    "import numpy as np\r\n",
    "import datetime as datetime\r\n",
    "import matplotlib.pyplot as plt"
   ]
  },
  {
   "cell_type": "code",
   "execution_count": 2,
   "metadata": {},
   "outputs": [],
   "source": [
    "# Setup working directory and relative filepaths\r\n",
    "current_dir = os.curdir\r\n",
    "data_dir = os.path.join(current_dir, \"data\")\r\n",
    "output_dir = os.path.join(current_dir, \"data_clean\")\r\n",
    "\r\n",
    "# Get data path\r\n",
    "abc_data_dir = os.path.join(data_dir, \"abc-news.csv\")\r\n",
    "bbc_data_dir = os.path.join(data_dir, \"bbc-news.csv\")\r\n",
    "cbs_data_dir = os.path.join(data_dir, \"cbs-news.csv\")\r\n",
    "cnn_data_dir = os.path.join(data_dir, \"cnn-news.csv\")\r\n",
    "\r\n",
    "# Read csv data\r\n",
    "abc_data_csv = pd.read_csv(abc_data_dir, encoding=\"utf-16\")\r\n",
    "bbc_data_csv = pd.read_csv(bbc_data_dir, encoding=\"utf-16\")\r\n",
    "cbs_data_csv = pd.read_csv(cbs_data_dir, encoding=\"utf-16\")\r\n",
    "cnn_data_csv = pd.read_csv(cnn_data_dir, encoding=\"utf-16\")"
   ]
  },
  {
   "cell_type": "code",
   "execution_count": 3,
   "metadata": {},
   "outputs": [],
   "source": [
    "abc_data_df = pd.DataFrame(abc_data_csv.copy())\r\n",
    "bbc_data_df = pd.DataFrame(bbc_data_csv.copy())\r\n",
    "cbs_data_df = pd.DataFrame(cbs_data_csv.copy())\r\n",
    "cnn_data_df = pd.DataFrame(cnn_data_csv.copy())"
   ]
  },
  {
   "cell_type": "code",
   "execution_count": 4,
   "metadata": {},
   "outputs": [
    {
     "name": "stdout",
     "output_type": "stream",
     "text": [
      "abc: 43280\n",
      "bbc: 21119\n",
      "cbs: 35085\n",
      "cnn: 31696\n"
     ]
    }
   ],
   "source": [
    "print(\"abc: \" + str(len(abc_data_df)))\r\n",
    "print(\"bbc: \" + str(len(bbc_data_df)))\r\n",
    "print(\"cbs: \" + str(len(cbs_data_df)))\r\n",
    "print(\"cnn: \" + str(len(cnn_data_df)))"
   ]
  },
  {
   "cell_type": "code",
   "execution_count": 5,
   "metadata": {},
   "outputs": [],
   "source": [
    "# Remove columns from Dataframe\r\n",
    "col_ls = ['id', 'page_id', 'name', 'message', 'description', 'caption', 'picture']\r\n",
    "abc_data_df.drop(columns = col_ls, inplace = True)\r\n",
    "bbc_data_df.drop(columns = col_ls, inplace = True)\r\n",
    "cbs_data_df.drop(columns = col_ls, inplace = True)\r\n",
    "cnn_data_df.drop(columns = col_ls, inplace = True)"
   ]
  },
  {
   "cell_type": "code",
   "execution_count": 6,
   "metadata": {},
   "outputs": [],
   "source": [
    "# Determine how many post_types and status_types and factorize types\r\n",
    "post_types_unique = pd.unique(abc_data_df['post_type'])\r\n",
    "post_types_factorize = pd.factorize(post_types_unique, sort=True)[0]\r\n",
    "status_types_unique = pd.unique(abc_data_df['status_type'])\r\n",
    "status_types_unique = [i for i in status_types_unique if str(i) != 'nan']\r\n",
    "status_types_factorize = pd.factorize(status_types_unique, sort=True)[0]"
   ]
  },
  {
   "cell_type": "code",
   "execution_count": 7,
   "metadata": {},
   "outputs": [],
   "source": [
    "# Create dictionary for post_types and status_types\r\n",
    "post_types_dict = dict(zip(post_types_unique, post_types_factorize))\r\n",
    "status_types_dict = dict(zip(status_types_unique, status_types_factorize))"
   ]
  },
  {
   "cell_type": "code",
   "execution_count": 8,
   "metadata": {},
   "outputs": [],
   "source": [
    "# Define function to assign kv pairs to post_types and status_types\r\n",
    "def post_cat(x):\r\n",
    "    for type, category in post_types_dict.items():\r\n",
    "        if x in type:\r\n",
    "            return category\r\n",
    "\r\n",
    "def status_cat(x):\r\n",
    "    for type, category in status_types_dict.items():\r\n",
    "        try:\r\n",
    "            if x in type:\r\n",
    "                return category\r\n",
    "        except TypeError:\r\n",
    "            return -1\r\n",
    "\r\n",
    "# Apply function to DataFrame\r\n",
    "abc_data_df['post_category'] = abc_data_df['post_type'].apply(post_cat)\r\n",
    "abc_data_df['status_category'] = abc_data_df['status_type'].apply(status_cat)"
   ]
  },
  {
   "cell_type": "code",
   "execution_count": 9,
   "metadata": {},
   "outputs": [],
   "source": [
    "# Calculate total reacts\r\n",
    "react_col = ['likes_count', 'comments_count', 'shares_count', 'love_count',\r\n",
    "            'wow_count', 'haha_count', 'sad_count', 'thankful_count', 'angry_count',]\r\n",
    "\r\n",
    "abc_data_df['total_reacts'] = abc_data_df[react_col].sum(axis=1)\r\n",
    "\r\n",
    "# Transform 'posted_at' to datetime.datime object\r\n",
    "abc_data_df['posted_at'] = pd.to_datetime(abc_data_df['posted_at'])\r\n",
    "\r\n",
    "# Round datetime.datetime object to the nearest hour recursively using round_hour method\r\n",
    "def round_hour(t):\r\n",
    "    t_start_hr = t.replace(minute=0, second=0, microsecond=0) # round to down to nearest hour\r\n",
    "    t = t_start_hr\r\n",
    "    return t\r\n",
    "\r\n",
    "abc_data_df['posted_at'] = abc_data_df['posted_at'].apply(round_hour)\r\n",
    "\r\n",
    "# Store date and time in new columns using list comprehension \r\n",
    "abc_data_df['date_posted'] = [i.date() for i in abc_data_df['posted_at']]\r\n",
    "abc_data_df['time_posted'] = [i.time() for i in abc_data_df['posted_at']]\r\n",
    "abc_data_df.drop(columns=['posted_at'], inplace=True)"
   ]
  },
  {
   "cell_type": "code",
   "execution_count": 10,
   "metadata": {},
   "outputs": [
    {
     "data": {
      "image/png": "[encoded data removed]",
      "text/plain": "<Figure size 432x288 with 1 Axes>"
     },
     "metadata": {
      "needs_background": "light"
     },
     "output_type": "display_data"
    }
   ],
   "source": [
    "objects = status_types_unique\r\n",
    "objects.append('na')\r\n",
    "y_pos = np.arange(len(objects))\r\n",
    "performance = abc_data_df['status_category'].value_counts()\r\n",
    "plt.bar(y_pos, performance, align='center', alpha=0.5)\r\n",
    "plt.xticks(y_pos, objects)\r\n",
    "plt.ylabel('Count')\r\n",
    "plt.title('Facebook ABC News: Status Type Comparison')\r\n",
    "plt.show()"
   ]
  },
  {
   "cell_type": "code",
   "execution_count": 11,
   "metadata": {},
   "outputs": [
    {
     "data": {
      "image/png": "[encoded data removed]",
      "text/plain": "<Figure size 432x288 with 1 Axes>"
     },
     "metadata": {
      "needs_background": "light"
     },
     "output_type": "display_data"
    }
   ],
   "source": [
    "objects = post_types_unique\r\n",
    "y_pos = np.arange(len(objects))\r\n",
    "performance = abc_data_df['post_category'].value_counts()\r\n",
    "plt.bar(y_pos, performance, align='center', alpha=0.5)\r\n",
    "plt.xticks(y_pos, objects)\r\n",
    "plt.ylabel('Count')\r\n",
    "plt.title('Facebook ABC News: Post Type Comparison')\r\n",
    "plt.show()"
   ]
  },
  {
   "cell_type": "code",
   "execution_count": 12,
   "metadata": {},
   "outputs": [
    {
     "data": {
      "image/png": "[encoded data removed]",
      "text/plain": "<Figure size 1152x288 with 1 Axes>"
     },
     "metadata": {
      "needs_background": "light"
     },
     "output_type": "display_data"
    }
   ],
   "source": [
    "# Total reacts over time\r\n",
    "time_reacts = pd.Series(data=abc_data_df['total_reacts'].values, index=abc_data_df['date_posted'])\r\n",
    "time_reacts.plot(figsize=(16,4), color='r')\r\n",
    "plt.ylabel('Total Reacts')\r\n",
    "plt.xlabel('Date')\r\n",
    "plt.title('Total ABC Post Reacts Between 2012 and 2016')\r\n",
    "plt.show()\r\n"
   ]
  }
 ],
 "metadata": {
  "kernelspec": {
   "display_name": "Python 3.9.1 32-bit",
   "name": "python391jvsc74a57bd03f278169035c3cd7303066dacb0afc3bfc0b1393c2667d2553c33cfa2e66540a"
  },
  "language_info": {
   "codemirror_mode": {
    "name": "ipython",
    "version": 3
   },
   "file_extension": ".py",
   "mimetype": "text/x-python",
   "name": "python",
   "nbconvert_exporter": "python",
   "pygments_lexer": "ipython3",
   "version": "3.9.1"
  },
  "metadata": {
   "interpreter": {
    "hash": "3f278169035c3cd7303066dacb0afc3bfc0b1393c2667d2553c33cfa2e66540a"
   }
  },
  "orig_nbformat": 2
 },
 "nbformat": 4,
 "nbformat_minor": 2
}