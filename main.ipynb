{
 "cells": [
  {
   "cell_type": "code",
   "execution_count": 1,
   "metadata": {},
   "outputs": [],
   "source": [
    "import os\n",
    "from nltk.tree import Tree\n",
    "import pandas as pd\n",
    "import numpy as np\n",
    "import datetime as datetime\n",
    "import matplotlib.pyplot as plt\n",
    "import seaborn as sns\n",
    "import string\n",
    "import re\n",
    "from textblob import TextBlob\n",
    "from nltk.corpus import stopwords\n",
    "import nltk as nltk\n",
    "import time"
   ]
  },
  {
   "cell_type": "code",
   "execution_count": 2,
   "metadata": {},
   "outputs": [],
   "source": [
    "# Setup working directory and relative filepaths\n",
    "current_dir = os.curdir\n",
    "data_dir = os.path.join(current_dir, \"data\")\n",
    "output_dir = os.path.join(current_dir, \"data_clean\")\n",
    "\n",
    "# Get data path\n",
    "abc_data_dir = os.path.join(data_dir, \"abc-news.csv\")\n",
    "bbc_data_dir = os.path.join(data_dir, \"bbc-news.csv\")\n",
    "cbs_data_dir = os.path.join(data_dir, \"cbs-news.csv\")\n",
    "cnn_data_dir = os.path.join(data_dir, \"cnn-news.csv\")\n",
    "\n",
    "# Read csv data\n",
    "abc_data_csv = pd.read_csv(abc_data_dir, encoding=\"utf-16\")\n",
    "bbc_data_csv = pd.read_csv(bbc_data_dir, encoding=\"utf-16\")\n",
    "cbs_data_csv = pd.read_csv(cbs_data_dir, encoding=\"utf-16\")\n",
    "cnn_data_csv = pd.read_csv(cnn_data_dir, encoding=\"utf-16\")"
   ]
  },
  {
   "cell_type": "code",
   "execution_count": 3,
   "metadata": {},
   "outputs": [],
   "source": [
    "abc_data_df = pd.DataFrame(abc_data_csv.copy())\n",
    "bbc_data_df = pd.DataFrame(bbc_data_csv.copy())\n",
    "cbs_data_df = pd.DataFrame(cbs_data_csv.copy())\n",
    "cnn_data_df = pd.DataFrame(cnn_data_csv.copy())"
   ]
  },
  {
   "cell_type": "code",
   "execution_count": 4,
   "metadata": {},
   "outputs": [],
   "source": [
    "# Remove columns from Dataframe\n",
    "col_ls = ['id', 'page_id', 'caption', 'picture']\n",
    "abc_data_df.drop(columns = col_ls, inplace = True)\n",
    "bbc_data_df.drop(columns = col_ls, inplace = True)\n",
    "cbs_data_df.drop(columns = col_ls, inplace = True)\n",
    "cnn_data_df.drop(columns = col_ls, inplace = True)"
   ]
  },
  {
   "cell_type": "code",
   "execution_count": 5,
   "metadata": {},
   "outputs": [],
   "source": [
    "class CleanData:\n",
    "    def __init__(self, df): # constructor for df\n",
    "        self.df = df\n",
    "\n",
    "    def show_df(self): # Show dateframe object when passed to CleanData\n",
    "        return self.df\n",
    "    \n",
    "    def news_outlet(self, outlet=''): # append news outlet name to self.df as a new column\n",
    "\n",
    "        self.df['news_outlet'] = outlet\n",
    "        return self.df\n",
    "    \n",
    "    def numeric_category(self): # Determine how many post_types and status_types and factorize types, use method only on combined dataframe\n",
    "\n",
    "        self.post_types_unique = pd.unique(self.df['post_type'])\n",
    "        self.post_types_factorize = pd.factorize(self.post_types_unique, sort=True)[0]\n",
    "        self.status_types_unique = pd.unique(self.df['status_type'])\n",
    "        self.status_types_unique = [i for i in self.status_types_unique if str(i) != 'nan']\n",
    "        self.status_types_factorize = pd.factorize(self.status_types_unique, sort=True)[0]\n",
    "\n",
    "        self.post_types_dict = dict(zip(self.post_types_unique, self.post_types_factorize)) # Create dictionary for post_types and status_types\n",
    "        self.status_types_dict = dict(zip(self.status_types_unique, self.status_types_factorize))\n",
    "        \n",
    "        def post_cat(x):\n",
    "            for type, category in self.post_types_dict.items():\n",
    "                if x in type:\n",
    "                    return category\n",
    "\n",
    "        def status_cat(x):\n",
    "            for type, category in self.status_types_dict.items():\n",
    "                if x in type:\n",
    "                    return category\n",
    "            \n",
    "        self.df['post_category'] = self.df['post_type'].apply(post_cat)\n",
    "        self.df['status_category'] = self.df['status_type'].apply(status_cat)\n",
    "\n",
    "        return self.df\n",
    "\n",
    "    def calculate_reacts(self): # Calculate reacts for self.df\n",
    "\n",
    "        self.react_col = ['likes_count', 'comments_count', 'shares_count', 'love_count', # store columns of interest \n",
    "            'wow_count', 'haha_count', 'sad_count', 'thankful_count', 'angry_count',]\n",
    "        self.df['total_reacts'] = self.df[self.react_col].sum(axis=1) # sum self.react_col by row\n",
    "\n",
    "        return self.df\n",
    "\n",
    "    def clean_datetime(self): # Clean datetime of self.df\n",
    "\n",
    "        def round_hour(t):\n",
    "            t_start_hr = t.replace(minute=0, second=0, microsecond=0) # round to down to nearest hour\n",
    "            t = t_start_hr\n",
    "            return t\n",
    "\n",
    "        self.df['posted_at'] = pd.to_datetime(self.df['posted_at']) # change dtype to datetime\n",
    "        self.df['posted_at'] = self.df['posted_at'].apply(round_hour) # apply round_hour\n",
    "        self.df['date_posted'] = [date.date() for date in self.df['posted_at']] # store date() from datetime object\n",
    "        self.df['time_posted'] = [time.time() for time in self.df['posted_at']] # store time() from datetime object\n",
    "        self.df.drop(columns=['posted_at'], inplace=True)\n",
    "\n",
    "        return self.df\n",
    "    \n",
    "    \n",
    "    def analyze_df(self):\n",
    "\n",
    "        def analyze_sentiment(headline):\n",
    "            analysis = TextBlob(str(headline))\n",
    "            return analysis.sentiment # returns sentiment, subjectivity\n",
    "\n",
    "        self.df[['name_sentiment', 'name_subjectivity']] = np.array([analyze_sentiment(str(headline)) for headline in self.df['name']]) # store sentiment, subjectivity in new columns\n",
    "\n",
    "        return self.df\n",
    "\n",
    "    def fill_na(self):\n",
    "        self.df['status_type'] = self.df['status_type'].fillna(self.df.mode().iloc[0][2]) # self.df.mode().iloc[0] returns a list of the most frequent values for each column in self.df iloc[0][2] accesses status_type\n",
    "        return self.df\n",
    "    \n",
    "    def process_text(self):\n",
    "\n",
    "        def clean_text(text):\n",
    "            text = re.sub('(https?:\\/\\/)?([\\da-z\\.-]+)\\.([a-z\\.]{2,6})([\\/\\w \\.-]*)', '', str(text)) # remove links\n",
    "            text = ''.join([char for char in str(text) if char not in string.punctuation]) # remove punction from string\n",
    "            text = ''.join([char if ord(char) < 128 else '' for char in text]) # join character only if unicode value is less than 128\n",
    "            text = re.sub('[0-9]+', '', text) # replace numbers with empty string\n",
    "            return text\n",
    "        \n",
    "        self.df['name_processed'] = self.df['name'].apply(clean_text)\n",
    "        self.df['message_processed'] = self.df['message'].apply(clean_text)\n",
    "        self.df['description_processed'] = self.df['description'].apply(clean_text)\n",
    "\n",
    "        return self.df\n",
    "        \n",
    "    def form_sentence(self, target_col=''):\n",
    "        def sentence(words):\n",
    "            words = ' '.join(word for word in words)\n",
    "            return words\n",
    "\n",
    "        self.df[target_col] = self.df[target_col].apply(sentence)\n",
    "\n",
    "        return self.df"
   ]
  },
  {
   "cell_type": "code",
   "execution_count": 6,
   "metadata": {},
   "outputs": [],
   "source": [
    "# ABC Data cleaning\n",
    "abc_data_clean = CleanData(abc_data_df)\n",
    "abc_data_clean.fill_na()\n",
    "abc_data_clean.news_outlet(outlet='ABC')\n",
    "abc_data_clean.calculate_reacts()\n",
    "abc_data_clean.clean_datetime()\n",
    "abc_data_clean.analyze_df()\n",
    "abc_data_clean = abc_data_clean.show_df()"
   ]
  },
  {
   "cell_type": "code",
   "execution_count": 7,
   "metadata": {},
   "outputs": [],
   "source": [
    "# BBC Data cleaning\n",
    "bbc_data_clean = CleanData(bbc_data_df)\n",
    "bbc_data_clean.fill_na()\n",
    "bbc_data_clean.news_outlet(outlet='BBC')\n",
    "bbc_data_clean.calculate_reacts()\n",
    "bbc_data_clean.clean_datetime()\n",
    "bbc_data_clean.analyze_df()\n",
    "bbc_data_clean = bbc_data_clean.show_df()"
   ]
  },
  {
   "cell_type": "code",
   "execution_count": 8,
   "metadata": {},
   "outputs": [],
   "source": [
    "# CBS Data cleaning\n",
    "cbs_data_clean = CleanData(cbs_data_df)\n",
    "cbs_data_clean.fill_na()\n",
    "cbs_data_clean.news_outlet(outlet='CBS')\n",
    "cbs_data_clean.calculate_reacts()\n",
    "cbs_data_clean.clean_datetime()\n",
    "cbs_data_clean.analyze_df()\n",
    "cbs_data_clean = cbs_data_clean.show_df()"
   ]
  },
  {
   "cell_type": "code",
   "execution_count": 9,
   "metadata": {},
   "outputs": [],
   "source": [
    "# CNN Data cleaning\n",
    "cnn_data_clean = CleanData(cnn_data_df)\n",
    "cnn_data_clean.fill_na()\n",
    "cnn_data_clean.news_outlet(outlet='CNN')\n",
    "cnn_data_clean.calculate_reacts()\n",
    "cnn_data_clean.clean_datetime()\n",
    "cnn_data_clean.analyze_df()\n",
    "cnn_data_clean = cnn_data_clean.show_df()"
   ]
  },
  {
   "cell_type": "code",
   "execution_count": 10,
   "metadata": {},
   "outputs": [],
   "source": [
    "# Combine news outlet and store in new dataframe\n",
    "news_data_combined_df = pd.concat([abc_data_clean, bbc_data_clean, cbs_data_clean, cnn_data_clean])\n",
    "news_data_combined_clean = CleanData(news_data_combined_df)\n",
    "news_data_combined_clean.process_text()\n",
    "news_data_combined_clean = news_data_combined_clean.show_df()"
   ]
  },
  {
   "cell_type": "code",
   "execution_count": 11,
   "metadata": {},
   "outputs": [],
   "source": [
    "# Melt columns \n",
    "news_data_text_pivot = news_data_combined_clean[['name_processed','message_processed', 'description_processed','news_outlet']].copy() # create a copy of df \n",
    "news_data_text_pivot['news_outlet'] = news_data_text_pivot['news_outlet'].str.cat(map(str, news_data_text_pivot.index), sep='_') # add incrementing int to end of string\n",
    "news_data_text_pivot = news_data_text_pivot.rename(columns={'name_processed':'A1','message_processed':'A2', 'description_processed':'A3'}) # rename columns before pivot .wide_to_long\n",
    "news_data_text_pivot = pd.wide_to_long(news_data_text_pivot, stubnames=['A'], i=['news_outlet'], j='drop').reset_index().drop('drop', 1) # combining name, message, description to one column      \n",
    "news_headlines = news_data_text_pivot[news_data_text_pivot['A'].str.contains('nan')==False] # remove rows containing 'nan'"
   ]
  },
  {
   "cell_type": "code",
   "execution_count": 12,
   "metadata": {},
   "outputs": [],
   "source": [
    "# Remove nan and empty rows\n",
    "news_headlines = news_headlines.copy()\n",
    "news_headlines['A'] = news_headlines['A'].replace(r'^\\s*$', np.nan, regex=True) # Replace empty rows containing only whitespace \n",
    "news_headlines = news_headlines.dropna(axis=0, how='any')\n"
   ]
  },
  {
   "cell_type": "code",
   "execution_count": 13,
   "metadata": {},
   "outputs": [],
   "source": [
    "# Tokenize\n",
    "def tokenize_text(text):  \n",
    "    text_token = TextBlob(text)\n",
    "    return text_token.words\n",
    "news_headlines['A'] = news_headlines['A'].apply(tokenize_text) "
   ]
  },
  {
   "cell_type": "code",
   "execution_count": 14,
   "metadata": {},
   "outputs": [
    {
     "name": "stdout",
     "output_type": "stream",
     "text": [
      "       news_outlet                                                  A\n",
      "0            ABC_0  [Chief, Justice, Roberts, Responds, Judicial, ...\n",
      "1            ABC_1  [With, Reservations, Obama, Signs, Act, Allow,...\n",
      "2            ABC_2                 [Wishes, For, Fall, Times, Square]\n",
      "3            ABC_3  [Mitt, Romney, Vows, Veto, Dream, Act, President]\n",
      "4            ABC_4  [NY, Pharmacy, Shootout, Leaves, Suspect, ATF,...\n",
      "...            ...                                                ...\n",
      "393474   CNN_31630  [There, members, Wellesley, Women, Hillary, gr...\n",
      "393475   CNN_31631  [Kids, picked, Hillary, Clinton, president, on...\n",
      "393516   CNN_31672  [Before, pull, lever, Election, Day, know, sta...\n",
      "393519   CNN_31675  [You, wont, recognize, name, face, youve, defi...\n",
      "393532   CNN_31688  [If, Trump, wins, move, Canada, says, cape, Br...\n",
      "\n",
      "[295604 rows x 2 columns]\n"
     ]
    }
   ],
   "source": [
    "# Define method to remove stopwords using nltk stopwords\n",
    "stop_words = stopwords.words('english')\n",
    "def remove_stopwords(text):\n",
    "    text = [word for word in text if word not in stop_words]\n",
    "    return text\n",
    "news_headlines['A'] = news_headlines['A'].apply(remove_stopwords)\n",
    "print(news_headlines)"
   ]
  },
  {
   "cell_type": "code",
   "execution_count": 15,
   "metadata": {},
   "outputs": [
    {
     "name": "stdout",
     "output_type": "stream",
     "text": [
      "       news_outlet                                                  A\n",
      "0            ABC_0  Chief Justice Roberts Responds Judicial Ethics...\n",
      "1            ABC_1  With Reservations Obama Signs Act Allow Detent...\n",
      "2            ABC_2                       Wishes For Fall Times Square\n",
      "3            ABC_3          Mitt Romney Vows Veto Dream Act President\n",
      "4            ABC_4  NY Pharmacy Shootout Leaves Suspect ATF Agent ...\n",
      "...            ...                                                ...\n",
      "393474   CNN_31630  There members Wellesley Women Hillary group Wh...\n",
      "393475   CNN_31631  Kids picked Hillary Clinton president online N...\n",
      "393516   CNN_31672  Before pull lever Election Day know states don...\n",
      "393519   CNN_31675  You wont recognize name face youve definitely ...\n",
      "393532   CNN_31688  If Trump wins move Canada says cape Breton island\n",
      "\n",
      "[295604 rows x 2 columns]\n"
     ]
    }
   ],
   "source": [
    "# Join tokenized text to form sentence\n",
    "news_headlines = CleanData(news_headlines.copy())\n",
    "news_headlines.form_sentence(target_col='A')\n",
    "news_headlines = news_headlines.show_df()\n",
    "print(news_headlines)"
   ]
  },
  {
   "cell_type": "code",
   "execution_count": 16,
   "metadata": {},
   "outputs": [],
   "source": [
    "# Split news_outlet into news_outlet and outlet_id\n",
    "news_headlines[['news_outlet', 'outlet_id']] = news_headlines['news_outlet'].str.split('_', expand=True)"
   ]
  },
  {
   "cell_type": "code",
   "execution_count": 17,
   "metadata": {},
   "outputs": [
    {
     "name": "stdout",
     "output_type": "stream",
     "text": [
      "       news_outlet                                               name  \\\n",
      "0              ABC  Chief Justice Roberts Responds Judicial Ethics...   \n",
      "1              ABC  With Reservations Obama Signs Act Allow Detent...   \n",
      "2              ABC                       Wishes For Fall Times Square   \n",
      "3              ABC          Mitt Romney Vows Veto Dream Act President   \n",
      "4              ABC  NY Pharmacy Shootout Leaves Suspect ATF Agent ...   \n",
      "...            ...                                                ...   \n",
      "393474         CNN  There members Wellesley Women Hillary group Wh...   \n",
      "393475         CNN  Kids picked Hillary Clinton president online N...   \n",
      "393516         CNN  Before pull lever Election Day know states don...   \n",
      "393519         CNN  You wont recognize name face youve definitely ...   \n",
      "393532         CNN  If Trump wins move Canada says cape Breton island   \n",
      "\n",
      "       outlet_id  name_sentiment  name_subjectivity  \n",
      "0              0            0.00             0.0000  \n",
      "1              1            0.00             0.0000  \n",
      "2              2            0.00             0.0000  \n",
      "3              3            0.00             0.0000  \n",
      "4              4           -0.20             0.4000  \n",
      "...          ...             ...                ...  \n",
      "393474     31630           -0.05             0.8125  \n",
      "393475     31631            0.00             0.0000  \n",
      "393516     31672            0.00             0.0000  \n",
      "393519     31675           -0.20             0.6000  \n",
      "393532     31688            0.30             0.2000  \n",
      "\n",
      "[295604 rows x 5 columns]\n"
     ]
    }
   ],
   "source": [
    "# Sentiment Analysis\n",
    "news_headlines.rename(columns={'A' : 'name'}, inplace=True)\n",
    "news_headlines = CleanData(news_headlines)  \n",
    "news_headlines.analyze_df()\n",
    "news_headlines = news_headlines.show_df()\n",
    "print(news_headlines)"
   ]
  },
  {
   "cell_type": "code",
   "execution_count": 30,
   "metadata": {},
   "outputs": [
    {
     "data": {
      "image/png": "[encoded data removed]",
      "text/plain": [
       "<Figure size 432x288 with 1 Axes>"
      ]
     },
     "metadata": {
      "needs_background": "light"
     },
     "output_type": "display_data"
    }
   ],
   "source": [
    "# Sentiment density plot\r\n",
    "news_headlines_sample = news_headlines.sample(10000)\r\n",
    "sentiment_density = sns.kdeplot(data=news_headlines_sample, x='name_sentiment', y='name_subjectivity', hue='news_outlet', fill=True, palette='crest', alpha=0.4)\r\n",
    "sentiment_density.set(xlabel='Polarity', ylabel='Subjectivity', title='Sentiment Density Map of All Outlets News Headlines')\r\n",
    "plt.show()"
   ]
  },
  {
   "cell_type": "code",
   "execution_count": 24,
   "metadata": {},
   "outputs": [
    {
     "data": {
      "image/png": "[encoded data removed]",
      "text/plain": [
       "<Figure size 432x288 with 1 Axes>"
      ]
     },
     "metadata": {
      "needs_background": "light"
     },
     "output_type": "display_data"
    }
   ],
   "source": [
    "# Polarity Distribution\r\n",
    "sentiment_distribution = sns.kdeplot(data=news_headlines, x='name_sentiment', hue='news_outlet', fill=True, palette='crest')\r\n",
    "sentiment_distribution.set(xlabel='Polarity', title='Polarity Distribution of All Outlet News Headlines')\r\n",
    "plt.show()"
   ]
  },
  {
   "cell_type": "code",
   "execution_count": 20,
   "metadata": {},
   "outputs": [
    {
     "name": "stdout",
     "output_type": "stream",
     "text": [
      "             name_sentiment  name_subjectivity\n",
      "news_outlet                                   \n",
      "ABC                0.040479           0.257900\n",
      "BBC                0.037401           0.215839\n",
      "CBS                0.036024           0.282539\n",
      "CNN                0.046376           0.261577\n"
     ]
    }
   ],
   "source": [
    "# Get average of sentiment/subjectivity by news_outlet\r\n",
    "news_outlet_avg_sentiment = news_headlines.groupby(by='news_outlet')[['name_sentiment', 'name_subjectivity']].mean()\r\n",
    "print(news_outlet_avg_sentiment)"
   ]
  },
  {
   "cell_type": "code",
   "execution_count": 21,
   "metadata": {},
   "outputs": [
    {
     "data": {
      "image/png": "[encoded data removed]",
      "text/plain": [
       "<Figure size 432x288 with 1 Axes>"
      ]
     },
     "metadata": {
      "needs_background": "light"
     },
     "output_type": "display_data"
    }
   ],
   "source": [
    "# Scatter plot of average sentiment by news_outlet\r\n",
    "sentiment_avg_scatter = sns.scatterplot(data=news_outlet_avg_sentiment, x=\"name_sentiment\", y=\"name_subjectivity\", hue=\"news_outlet\")\r\n",
    "sentiment_avg_scatter.set(xlabel='Polarity Average', ylabel='Subjectivity Average', title='Sentiment Average by News Outlet')\r\n",
    "plt.show()"
   ]
  }
 ],
 "metadata": {
  "interpreter": {
   "hash": "3f278169035c3cd7303066dacb0afc3bfc0b1393c2667d2553c33cfa2e66540a"
  },
  "kernelspec": {
   "display_name": "Python 3.9.1 32-bit",
   "name": "python3"
  },
  "language_info": {
   "codemirror_mode": {
    "name": "ipython",
    "version": 3
   },
   "file_extension": ".py",
   "mimetype": "text/x-python",
   "name": "python",
   "nbconvert_exporter": "python",
   "pygments_lexer": "ipython3",
   "version": "3.9.1"
  },
  "metadata": {
   "interpreter": {
    "hash": "3f278169035c3cd7303066dacb0afc3bfc0b1393c2667d2553c33cfa2e66540a"
   }
  },
  "orig_nbformat": 2
 },
 "nbformat": 4,
 "nbformat_minor": 2
}