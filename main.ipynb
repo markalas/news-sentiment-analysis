{
 "cells": [
  {
   "cell_type": "code",
   "execution_count": 41,
   "metadata": {},
   "outputs": [],
   "source": [
    "import os\r\n",
    "import pandas as pd\r\n",
    "import numpy as np"
   ]
  },
  {
   "cell_type": "code",
   "execution_count": 42,
   "metadata": {},
   "outputs": [],
   "source": [
    "# Setup working directory and relative filepaths\r\n",
    "current_dir = os.curdir\r\n",
    "data_dir = os.path.join(current_dir, \"data\")\r\n",
    "output_dir = os.path.join(current_dir, \"data_clean\")\r\n",
    "\r\n",
    "# Get data path\r\n",
    "abc_data_dir = os.path.join(data_dir, \"abc-news-86680728811.csv_abc-news.csv\")\r\n",
    "bbc_data_dir = os.path.join(data_dir, \"bbc-228735667216.csv_bbc-228735667216.csv\")\r\n",
    "cbs_data_dir = os.path.join(data_dir, \"cbs-news-131459315949.csv_cbs-news-131459315949.csv\")\r\n",
    "cnn_data_dir = os.path.join(data_dir, \"cnn-5550296508.csv_cnn-5550296508.csv\")\r\n",
    "\r\n",
    "# Read csv data\r\n",
    "abc_data_csv = pd.read_csv(abc_data_dir, encoding=\"utf-16\")\r\n",
    "bbc_data_csv = pd.read_csv(bbc_data_dir, encoding=\"utf-16\")\r\n",
    "cbs_data_csv = pd.read_csv(cbs_data_dir, encoding=\"utf-16\")\r\n",
    "cnn_data_csv = pd.read_csv(cnn_data_dir, encoding=\"utf-16\")"
   ]
  },
  {
   "cell_type": "code",
   "execution_count": 50,
   "metadata": {},
   "outputs": [],
   "source": [
    "abc_data_df = pd.DataFrame(abc_data_csv.copy())\r\n",
    "bbc_data_df = pd.DataFrame(bbc_data_csv.copy())\r\n",
    "cbs_data_df = pd.DataFrame(cbs_data_csv.copy())\r\n",
    "cnn_data_df = pd.DataFrame(cnn_data_csv.copy())"
   ]
  },
  {
   "cell_type": "code",
   "execution_count": 44,
   "metadata": {},
   "outputs": [
    {
     "name": "stdout",
     "output_type": "stream",
     "text": [
      "abc: 43280\n",
      "bbc: 21119\n",
      "cbs: 35085\n",
      "cnn: 31696\n"
     ]
    }
   ],
   "source": [
    "print(\"abc: \" + str(len(abc_data_df)))\r\n",
    "print(\"bbc: \" + str(len(bbc_data_df)))\r\n",
    "print(\"cbs: \" + str(len(cbs_data_df)))\r\n",
    "print(\"cnn: \" + str(len(cnn_data_df)))"
   ]
  },
  {
   "cell_type": "code",
   "execution_count": 45,
   "metadata": {},
   "outputs": [
    {
     "data": {
      "text/plain": "Index(['id', 'page_id', 'name', 'message', 'description', 'caption',\n       'post_type', 'status_type', 'likes_count', 'comments_count',\n       'shares_count', 'love_count', 'wow_count', 'haha_count', 'sad_count',\n       'thankful_count', 'angry_count', 'link', 'picture', 'posted_at'],\n      dtype='object')"
     },
     "execution_count": 45,
     "metadata": {},
     "output_type": "execute_result"
    }
   ],
   "source": [
    "abc_data_df.columns"
   ]
  },
  {
   "cell_type": "code",
   "execution_count": 46,
   "metadata": {},
   "outputs": [
    {
     "data": {
      "text/html": "<div>\n<style scoped>\n    .dataframe tbody tr th:only-of-type {\n        vertical-align: middle;\n    }\n\n    .dataframe tbody tr th {\n        vertical-align: top;\n    }\n\n    .dataframe thead th {\n        text-align: right;\n    }\n</style>\n<table border=\"1\" class=\"dataframe\">\n  <thead>\n    <tr style=\"text-align: right;\">\n      <th></th>\n      <th>id</th>\n      <th>page_id</th>\n      <th>name</th>\n      <th>message</th>\n      <th>description</th>\n      <th>caption</th>\n      <th>post_type</th>\n      <th>status_type</th>\n      <th>likes_count</th>\n      <th>comments_count</th>\n      <th>shares_count</th>\n      <th>love_count</th>\n      <th>wow_count</th>\n      <th>haha_count</th>\n      <th>sad_count</th>\n      <th>thankful_count</th>\n      <th>angry_count</th>\n      <th>link</th>\n      <th>picture</th>\n      <th>posted_at</th>\n    </tr>\n  </thead>\n  <tbody>\n    <tr>\n      <th>0</th>\n      <td>﻿\"86680728811_272953252761568\"</td>\n      <td>86680728811</td>\n      <td>Chief Justice Roberts Responds to Judicial Eth...</td>\n      <td>Roberts took the unusual step of devoting the ...</td>\n      <td>PAUL J. RICHARDS/AFP/Getty Images Chief Justic...</td>\n      <td>abcnews.go.com</td>\n      <td>link</td>\n      <td>shared_story</td>\n      <td>61</td>\n      <td>27</td>\n      <td>12</td>\n      <td>0</td>\n      <td>0</td>\n      <td>0</td>\n      <td>0</td>\n      <td>0</td>\n      <td>0</td>\n      <td>http://abcnews.go.com/blogs/headlines/2011/12/...</td>\n      <td>https://external.xx.fbcdn.net/safe_image.php?d...</td>\n      <td>2012-01-01 00:30:26</td>\n    </tr>\n    <tr>\n      <th>1</th>\n      <td>﻿\"86680728811_273859942672742\"</td>\n      <td>86680728811</td>\n      <td>With Reservations, Obama Signs Act to Allow De...</td>\n      <td>Do you agree with the new law?</td>\n      <td>In his last official act of business in 2011, ...</td>\n      <td>abcnews.go.com</td>\n      <td>link</td>\n      <td>shared_story</td>\n      <td>120</td>\n      <td>523</td>\n      <td>171</td>\n      <td>0</td>\n      <td>0</td>\n      <td>0</td>\n      <td>0</td>\n      <td>0</td>\n      <td>0</td>\n      <td>http://abcnews.go.com/blogs/politics/2011/12/w...</td>\n      <td>https://external.xx.fbcdn.net/safe_image.php?d...</td>\n      <td>2012-01-01 01:08:58</td>\n    </tr>\n    <tr>\n      <th>2</th>\n      <td>﻿\"86680728811_10150499874478812\"</td>\n      <td>86680728811</td>\n      <td>Wishes For 2012 to Fall on Times Square</td>\n      <td>Some pretty cool confetti will rain down on Ne...</td>\n      <td>The wishes of thousands of people will flutter...</td>\n      <td>abcnews.go.com</td>\n      <td>link</td>\n      <td>published_story</td>\n      <td>271</td>\n      <td>31</td>\n      <td>0</td>\n      <td>0</td>\n      <td>0</td>\n      <td>0</td>\n      <td>0</td>\n      <td>0</td>\n      <td>0</td>\n      <td>http://abcnews.go.com/blogs/headlines/2011/12/...</td>\n      <td>https://external.xx.fbcdn.net/safe_image.php?d...</td>\n      <td>2012-01-01 02:00:37</td>\n    </tr>\n    <tr>\n      <th>3</th>\n      <td>﻿\"86680728811_244555465618151\"</td>\n      <td>86680728811</td>\n      <td>Mitt Romney Vows to Veto Dream Act if President</td>\n      <td>NaN</td>\n      <td>Eric Gay/AP Photo SIOUX CITY, Iowa – Mitt Romn...</td>\n      <td>abcnews.go.com</td>\n      <td>link</td>\n      <td>shared_story</td>\n      <td>140</td>\n      <td>188</td>\n      <td>23</td>\n      <td>0</td>\n      <td>0</td>\n      <td>0</td>\n      <td>0</td>\n      <td>0</td>\n      <td>0</td>\n      <td>http://abcnews.go.com/blogs/politics/2011/12/m...</td>\n      <td>https://external.xx.fbcdn.net/safe_image.php?d...</td>\n      <td>2012-01-01 02:35:20</td>\n    </tr>\n    <tr>\n      <th>4</th>\n      <td>﻿\"86680728811_252342804833247\"</td>\n      <td>86680728811</td>\n      <td>NY Pharmacy Shootout Leaves Suspect, ATF Agent...</td>\n      <td>The pharmacy was held up by a man seeking pres...</td>\n      <td>A shootout at a suburban New York family pharm...</td>\n      <td>abcnews.go.com</td>\n      <td>link</td>\n      <td>shared_story</td>\n      <td>59</td>\n      <td>51</td>\n      <td>34</td>\n      <td>0</td>\n      <td>0</td>\n      <td>0</td>\n      <td>0</td>\n      <td>0</td>\n      <td>0</td>\n      <td>http://abcnews.go.com/US/ny-pharmacy-shootout-...</td>\n      <td>https://external.xx.fbcdn.net/safe_image.php?d...</td>\n      <td>2012-01-01 03:36:01</td>\n    </tr>\n    <tr>\n      <th>...</th>\n      <td>...</td>\n      <td>...</td>\n      <td>...</td>\n      <td>...</td>\n      <td>...</td>\n      <td>...</td>\n      <td>...</td>\n      <td>...</td>\n      <td>...</td>\n      <td>...</td>\n      <td>...</td>\n      <td>...</td>\n      <td>...</td>\n      <td>...</td>\n      <td>...</td>\n      <td>...</td>\n      <td>...</td>\n      <td>...</td>\n      <td>...</td>\n      <td>...</td>\n    </tr>\n    <tr>\n      <th>43275</th>\n      <td>﻿\"86680728811_10154989562803812\"</td>\n      <td>86680728811</td>\n      <td>New Jersey Family Protects Their Donald Trump ...</td>\n      <td>This New Jersey family went to extraordinary m...</td>\n      <td>NaN</td>\n      <td>NaN</td>\n      <td>video</td>\n      <td>added_video</td>\n      <td>1703</td>\n      <td>642</td>\n      <td>485</td>\n      <td>207</td>\n      <td>66</td>\n      <td>718</td>\n      <td>12</td>\n      <td>0</td>\n      <td>46</td>\n      <td>https://www.facebook.com/ABCNews/videos/101549...</td>\n      <td>https://scontent.xx.fbcdn.net/v/t15.0-10/s130x...</td>\n      <td>2016-11-07 23:03:33</td>\n    </tr>\n    <tr>\n      <th>43276</th>\n      <td>﻿\"86680728811_10154989593988812\"</td>\n      <td>86680728811</td>\n      <td>ABC News Politics</td>\n      <td>NaN</td>\n      <td>Hours before the pivotal state of Pennsylvania...</td>\n      <td>NaN</td>\n      <td>video</td>\n      <td>mobile_status_update</td>\n      <td>1102</td>\n      <td>500</td>\n      <td>0</td>\n      <td>246</td>\n      <td>10</td>\n      <td>64</td>\n      <td>11</td>\n      <td>0</td>\n      <td>457</td>\n      <td>https://www.facebook.com/ABCNewsPolitics/video...</td>\n      <td>https://scontent.xx.fbcdn.net/v/t15.0-10/s130x...</td>\n      <td>2016-11-07 23:19:27</td>\n    </tr>\n    <tr>\n      <th>43277</th>\n      <td>﻿\"86680728811_10154989613668812\"</td>\n      <td>86680728811</td>\n      <td>Trump's Tax Returns Remain Election Mystery</td>\n      <td>As Election Day arrives, one of the campaign's...</td>\n      <td></td>\n      <td>abcnews.go.com</td>\n      <td>link</td>\n      <td>shared_story</td>\n      <td>4772</td>\n      <td>4011</td>\n      <td>3470</td>\n      <td>91</td>\n      <td>244</td>\n      <td>1232</td>\n      <td>65</td>\n      <td>0</td>\n      <td>2592</td>\n      <td>http://abcn.ws/2fyZMvM</td>\n      <td>https://external.xx.fbcdn.net/safe_image.php?d...</td>\n      <td>2016-11-07 23:27:30</td>\n    </tr>\n    <tr>\n      <th>43278</th>\n      <td>﻿\"86680728811_10154989660828812\"</td>\n      <td>86680728811</td>\n      <td>Donald Trump's Possible Paths to Victory</td>\n      <td>Donald J. Trump's path to victory isn't clear ...</td>\n      <td></td>\n      <td>abcnews.go.com</td>\n      <td>link</td>\n      <td>shared_story</td>\n      <td>1953</td>\n      <td>645</td>\n      <td>99</td>\n      <td>444</td>\n      <td>11</td>\n      <td>161</td>\n      <td>22</td>\n      <td>0</td>\n      <td>434</td>\n      <td>http://abcn.ws/2fVhY7r</td>\n      <td>https://external.xx.fbcdn.net/safe_image.php?d...</td>\n      <td>2016-11-07 23:45:07</td>\n    </tr>\n    <tr>\n      <th>43279</th>\n      <td>﻿\"86680728811_10154989665683812\"</td>\n      <td>86680728811</td>\n      <td>Hillary Clinton's Possible Paths to Victory</td>\n      <td>Hillary Clinton is hitting three important sta...</td>\n      <td></td>\n      <td>abcnews.go.com</td>\n      <td>link</td>\n      <td>shared_story</td>\n      <td>3029</td>\n      <td>853</td>\n      <td>158</td>\n      <td>745</td>\n      <td>15</td>\n      <td>62</td>\n      <td>22</td>\n      <td>0</td>\n      <td>504</td>\n      <td>http://abcn.ws/2eGYpxR</td>\n      <td>https://external.xx.fbcdn.net/safe_image.php?d...</td>\n      <td>2016-11-07 23:47:06</td>\n    </tr>\n  </tbody>\n</table>\n<p>43280 rows × 20 columns</p>\n</div>",
      "text/plain": "                                     id      page_id  \\\n0        ﻿\"86680728811_272953252761568\"  86680728811   \n1        ﻿\"86680728811_273859942672742\"  86680728811   \n2      ﻿\"86680728811_10150499874478812\"  86680728811   \n3        ﻿\"86680728811_244555465618151\"  86680728811   \n4        ﻿\"86680728811_252342804833247\"  86680728811   \n...                                 ...          ...   \n43275  ﻿\"86680728811_10154989562803812\"  86680728811   \n43276  ﻿\"86680728811_10154989593988812\"  86680728811   \n43277  ﻿\"86680728811_10154989613668812\"  86680728811   \n43278  ﻿\"86680728811_10154989660828812\"  86680728811   \n43279  ﻿\"86680728811_10154989665683812\"  86680728811   \n\n                                                    name  \\\n0      Chief Justice Roberts Responds to Judicial Eth...   \n1      With Reservations, Obama Signs Act to Allow De...   \n2                Wishes For 2012 to Fall on Times Square   \n3        Mitt Romney Vows to Veto Dream Act if President   \n4      NY Pharmacy Shootout Leaves Suspect, ATF Agent...   \n...                                                  ...   \n43275  New Jersey Family Protects Their Donald Trump ...   \n43276                                  ABC News Politics   \n43277        Trump's Tax Returns Remain Election Mystery   \n43278           Donald Trump's Possible Paths to Victory   \n43279        Hillary Clinton's Possible Paths to Victory   \n\n                                                 message  \\\n0      Roberts took the unusual step of devoting the ...   \n1                         Do you agree with the new law?   \n2      Some pretty cool confetti will rain down on Ne...   \n3                                                    NaN   \n4      The pharmacy was held up by a man seeking pres...   \n...                                                  ...   \n43275  This New Jersey family went to extraordinary m...   \n43276                                                NaN   \n43277  As Election Day arrives, one of the campaign's...   \n43278  Donald J. Trump's path to victory isn't clear ...   \n43279  Hillary Clinton is hitting three important sta...   \n\n                                             description         caption  \\\n0      PAUL J. RICHARDS/AFP/Getty Images Chief Justic...  abcnews.go.com   \n1      In his last official act of business in 2011, ...  abcnews.go.com   \n2      The wishes of thousands of people will flutter...  abcnews.go.com   \n3      Eric Gay/AP Photo SIOUX CITY, Iowa – Mitt Romn...  abcnews.go.com   \n4      A shootout at a suburban New York family pharm...  abcnews.go.com   \n...                                                  ...             ...   \n43275                                                NaN             NaN   \n43276  Hours before the pivotal state of Pennsylvania...             NaN   \n43277                                                     abcnews.go.com   \n43278                                                     abcnews.go.com   \n43279                                                     abcnews.go.com   \n\n      post_type           status_type  likes_count  comments_count  \\\n0          link          shared_story           61              27   \n1          link          shared_story          120             523   \n2          link       published_story          271              31   \n3          link          shared_story          140             188   \n4          link          shared_story           59              51   \n...         ...                   ...          ...             ...   \n43275     video           added_video         1703             642   \n43276     video  mobile_status_update         1102             500   \n43277      link          shared_story         4772            4011   \n43278      link          shared_story         1953             645   \n43279      link          shared_story         3029             853   \n\n       shares_count  love_count  wow_count  haha_count  sad_count  \\\n0                12           0          0           0          0   \n1               171           0          0           0          0   \n2                 0           0          0           0          0   \n3                23           0          0           0          0   \n4                34           0          0           0          0   \n...             ...         ...        ...         ...        ...   \n43275           485         207         66         718         12   \n43276             0         246         10          64         11   \n43277          3470          91        244        1232         65   \n43278            99         444         11         161         22   \n43279           158         745         15          62         22   \n\n       thankful_count  angry_count  \\\n0                   0            0   \n1                   0            0   \n2                   0            0   \n3                   0            0   \n4                   0            0   \n...               ...          ...   \n43275               0           46   \n43276               0          457   \n43277               0         2592   \n43278               0          434   \n43279               0          504   \n\n                                                    link  \\\n0      http://abcnews.go.com/blogs/headlines/2011/12/...   \n1      http://abcnews.go.com/blogs/politics/2011/12/w...   \n2      http://abcnews.go.com/blogs/headlines/2011/12/...   \n3      http://abcnews.go.com/blogs/politics/2011/12/m...   \n4      http://abcnews.go.com/US/ny-pharmacy-shootout-...   \n...                                                  ...   \n43275  https://www.facebook.com/ABCNews/videos/101549...   \n43276  https://www.facebook.com/ABCNewsPolitics/video...   \n43277                             http://abcn.ws/2fyZMvM   \n43278                             http://abcn.ws/2fVhY7r   \n43279                             http://abcn.ws/2eGYpxR   \n\n                                                 picture            posted_at  \n0      https://external.xx.fbcdn.net/safe_image.php?d...  2012-01-01 00:30:26  \n1      https://external.xx.fbcdn.net/safe_image.php?d...  2012-01-01 01:08:58  \n2      https://external.xx.fbcdn.net/safe_image.php?d...  2012-01-01 02:00:37  \n3      https://external.xx.fbcdn.net/safe_image.php?d...  2012-01-01 02:35:20  \n4      https://external.xx.fbcdn.net/safe_image.php?d...  2012-01-01 03:36:01  \n...                                                  ...                  ...  \n43275  https://scontent.xx.fbcdn.net/v/t15.0-10/s130x...  2016-11-07 23:03:33  \n43276  https://scontent.xx.fbcdn.net/v/t15.0-10/s130x...  2016-11-07 23:19:27  \n43277  https://external.xx.fbcdn.net/safe_image.php?d...  2016-11-07 23:27:30  \n43278  https://external.xx.fbcdn.net/safe_image.php?d...  2016-11-07 23:45:07  \n43279  https://external.xx.fbcdn.net/safe_image.php?d...  2016-11-07 23:47:06  \n\n[43280 rows x 20 columns]"
     },
     "execution_count": 46,
     "metadata": {},
     "output_type": "execute_result"
    }
   ],
   "source": [
    "abc_data_df"
   ]
  }
 ],
 "metadata": {
  "kernelspec": {
   "display_name": "Python 3.9.1 32-bit",
   "name": "python391jvsc74a57bd03f278169035c3cd7303066dacb0afc3bfc0b1393c2667d2553c33cfa2e66540a"
  },
  "language_info": {
   "codemirror_mode": {
    "name": "ipython",
    "version": 3
   },
   "file_extension": ".py",
   "mimetype": "text/x-python",
   "name": "python",
   "nbconvert_exporter": "python",
   "pygments_lexer": "ipython3",
   "version": "3.9.1"
  },
  "metadata": {
   "interpreter": {
    "hash": "3f278169035c3cd7303066dacb0afc3bfc0b1393c2667d2553c33cfa2e66540a"
   }
  },
  "orig_nbformat": 2
 },
 "nbformat": 4,
 "nbformat_minor": 2
}